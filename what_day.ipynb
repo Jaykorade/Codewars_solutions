{
 "cells": [
  {
   "cell_type": "code",
   "execution_count": 2,
   "metadata": {},
   "outputs": [
    {
     "data": {
      "text/plain": [
       "'Complete the function which returns the weekday according to the input number:\\n\\n1 returns \"Sunday\"\\n2 returns \"Monday\"\\n3 returns \"Tuesday\"\\n4 returns \"Wednesday\"\\n5 returns \"Thursday\"\\n6 returns \"Friday\"\\n7 returns \"Saturday\"\\nOtherwise returns \"Wrong, please enter a number between 1 and 7'"
      ]
     },
     "execution_count": 2,
     "metadata": {},
     "output_type": "execute_result"
    }
   ],
   "source": [
    "\"\"\"Complete the function which returns the weekday according to the input number:\n",
    "\n",
    "1 returns \"Sunday\"\n",
    "2 returns \"Monday\"\n",
    "3 returns \"Tuesday\"\n",
    "4 returns \"Wednesday\"\n",
    "5 returns \"Thursday\"\n",
    "6 returns \"Friday\"\n",
    "7 returns \"Saturday\"\n",
    "Otherwise returns \"Wrong, please enter a number between 1 and 7\"\"\""
   ]
  },
  {
   "cell_type": "code",
   "execution_count": 33,
   "metadata": {},
   "outputs": [],
   "source": [
    "def whatday(num):\n",
    "    Days = ['Sun','Mon','Tues','Wednes','Thurs','Fri','Satur']\n",
    "    for index,values in enumerate(Days):\n",
    "    #print(index,values)\n",
    "        if index == num-1:\n",
    "            return (values+\"day\")\n",
    "        elif num > 7 and num < 1:\n",
    "            return \"Wrong, please enter a number between 1 and 7\"\n"
   ]
  },
  {
   "cell_type": "code",
   "execution_count": 34,
   "metadata": {},
   "outputs": [],
   "source": [
    "def whatday(num):\n",
    "    Days = ['Sun','Mon','Tues','Wednes','Thurs','Fri','Satur']\n",
    "    return Days[num-1] + \"day\" if 1 <= num <= 7 else \"Wrong, please enter a number between 1 and 7\""
   ]
  },
  {
   "cell_type": "code",
   "execution_count": 35,
   "metadata": {},
   "outputs": [
    {
     "data": {
      "text/plain": [
       "'Tuesday'"
      ]
     },
     "execution_count": 35,
     "metadata": {},
     "output_type": "execute_result"
    }
   ],
   "source": [
    "whatday(3)"
   ]
  },
  {
   "cell_type": "code",
   "execution_count": 21,
   "metadata": {},
   "outputs": [
    {
     "name": "stdout",
     "output_type": "stream",
     "text": [
      "Tueday\n"
     ]
    }
   ],
   "source": [
    "Days = ['Sun','Mon','Tue','Wed','Thurs','Fri','Satur']\n",
    "num = 3\n",
    "for index,values in enumerate(Days):\n",
    "    #print(index,values)\n",
    "    if index == num-1:\n",
    "        print(values+\"day\")\n",
    "    elif num > 7 and num < 1:\n",
    "        print( \"Wrong, please enter a number between 1 and 7\")"
   ]
  },
  {
   "cell_type": "code",
   "execution_count": 10,
   "metadata": {},
   "outputs": [
    {
     "data": {
      "text/plain": [
       "'Wrong, please enter a number between 1 and 7'"
      ]
     },
     "execution_count": 10,
     "metadata": {},
     "output_type": "execute_result"
    }
   ],
   "source": [
    "whatday(2)"
   ]
  },
  {
   "cell_type": "code",
   "execution_count": null,
   "metadata": {},
   "outputs": [],
   "source": []
  }
 ],
 "metadata": {
  "kernelspec": {
   "display_name": "Python 3",
   "language": "python",
   "name": "python3"
  },
  "language_info": {
   "codemirror_mode": {
    "name": "ipython",
    "version": 3
   },
   "file_extension": ".py",
   "mimetype": "text/x-python",
   "name": "python",
   "nbconvert_exporter": "python",
   "pygments_lexer": "ipython3",
   "version": "3.12.3"
  }
 },
 "nbformat": 4,
 "nbformat_minor": 2
}
